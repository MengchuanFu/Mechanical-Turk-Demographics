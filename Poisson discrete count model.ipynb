{
 "cells": [
  {
   "cell_type": "markdown",
   "metadata": {},
   "source": [
    "# Poisson discrete count model for MTurk demographics"
   ]
  },
  {
   "cell_type": "code",
   "execution_count": 1,
   "metadata": {
    "collapsed": false
   },
   "outputs": [
    {
     "name": "stderr",
     "output_type": "stream",
     "text": [
      "C:\\Anaconda3\\lib\\site-packages\\ipykernel\\__main__.py:4: SettingWithCopyWarning: \n",
      "A value is trying to be set on a copy of a slice from a DataFrame\n",
      "\n",
      "See the caveats in the documentation: http://pandas.pydata.org/pandas-docs/stable/indexing.html#indexing-view-versus-copy\n"
     ]
    },
    {
     "data": {
      "text/html": [
       "<div>\n",
       "<table border=\"1\" class=\"dataframe\">\n",
       "  <thead>\n",
       "    <tr style=\"text-align: right;\">\n",
       "      <th></th>\n",
       "      <th>Unnamed: 0</th>\n",
       "      <th>gender</th>\n",
       "      <th>hit_answered_date</th>\n",
       "      <th>hit_creation_date</th>\n",
       "      <th>household_income</th>\n",
       "      <th>household_size</th>\n",
       "      <th>location_city</th>\n",
       "      <th>location_country</th>\n",
       "      <th>location_region</th>\n",
       "      <th>marital_status</th>\n",
       "      <th>post_to_completion_secs</th>\n",
       "      <th>worker_id</th>\n",
       "      <th>year_of_birth</th>\n",
       "    </tr>\n",
       "  </thead>\n",
       "  <tbody>\n",
       "    <tr>\n",
       "      <th>0</th>\n",
       "      <td>0</td>\n",
       "      <td>female</td>\n",
       "      <td>2016-09-14 17:37:11.297</td>\n",
       "      <td>2016-09-14 17:35:14.000</td>\n",
       "      <td>$40,000-$59,999</td>\n",
       "      <td>1</td>\n",
       "      <td>mount holly</td>\n",
       "      <td>US</td>\n",
       "      <td>nj</td>\n",
       "      <td>divorced</td>\n",
       "      <td>117.0</td>\n",
       "      <td>a013d8ba79229f477b5b045bf35c7d57</td>\n",
       "      <td>1956</td>\n",
       "    </tr>\n",
       "    <tr>\n",
       "      <th>1</th>\n",
       "      <td>1</td>\n",
       "      <td>male</td>\n",
       "      <td>2016-09-14 17:29:09.539</td>\n",
       "      <td>2016-09-14 17:20:14.000</td>\n",
       "      <td>Less than $10,000</td>\n",
       "      <td>2</td>\n",
       "      <td>pune</td>\n",
       "      <td>IN</td>\n",
       "      <td>mh</td>\n",
       "      <td>single</td>\n",
       "      <td>535.0</td>\n",
       "      <td>4958cd4059bd09a144c2698d50f5bc60</td>\n",
       "      <td>1992</td>\n",
       "    </tr>\n",
       "    <tr>\n",
       "      <th>2</th>\n",
       "      <td>2</td>\n",
       "      <td>female</td>\n",
       "      <td>2016-09-14 17:13:35.428</td>\n",
       "      <td>2016-09-14 16:20:14.000</td>\n",
       "      <td>Less than $10,000</td>\n",
       "      <td>4</td>\n",
       "      <td>caracas</td>\n",
       "      <td>VE</td>\n",
       "      <td>a</td>\n",
       "      <td>divorced</td>\n",
       "      <td>3201.0</td>\n",
       "      <td>0a79a3e3ea28284e7a92ce0ddaa05e06</td>\n",
       "      <td>1978</td>\n",
       "    </tr>\n",
       "    <tr>\n",
       "      <th>3</th>\n",
       "      <td>3</td>\n",
       "      <td>female</td>\n",
       "      <td>2016-09-14 17:10:54.723</td>\n",
       "      <td>2016-09-14 17:05:13.000</td>\n",
       "      <td>$75,000-$99,999</td>\n",
       "      <td>3</td>\n",
       "      <td>scottsdale</td>\n",
       "      <td>US</td>\n",
       "      <td>az</td>\n",
       "      <td>cohabitating</td>\n",
       "      <td>341.0</td>\n",
       "      <td>1079d94e2374ade52af1de09232c9797</td>\n",
       "      <td>1963</td>\n",
       "    </tr>\n",
       "    <tr>\n",
       "      <th>4</th>\n",
       "      <td>4</td>\n",
       "      <td>male</td>\n",
       "      <td>2016-09-14 16:52:20.792</td>\n",
       "      <td>2016-09-14 16:50:13.000</td>\n",
       "      <td>Less than $10,000</td>\n",
       "      <td>4</td>\n",
       "      <td>ambala</td>\n",
       "      <td>IN</td>\n",
       "      <td>hr</td>\n",
       "      <td>single</td>\n",
       "      <td>127.0</td>\n",
       "      <td>897b71b78803b47bc19d0d31ff91856e</td>\n",
       "      <td>1993</td>\n",
       "    </tr>\n",
       "  </tbody>\n",
       "</table>\n",
       "</div>"
      ],
      "text/plain": [
       "   Unnamed: 0  gender        hit_answered_date        hit_creation_date  \\\n",
       "0           0  female  2016-09-14 17:37:11.297  2016-09-14 17:35:14.000   \n",
       "1           1    male  2016-09-14 17:29:09.539  2016-09-14 17:20:14.000   \n",
       "2           2  female  2016-09-14 17:13:35.428  2016-09-14 16:20:14.000   \n",
       "3           3  female  2016-09-14 17:10:54.723  2016-09-14 17:05:13.000   \n",
       "4           4    male  2016-09-14 16:52:20.792  2016-09-14 16:50:13.000   \n",
       "\n",
       "    household_income household_size location_city location_country  \\\n",
       "0    $40,000-$59,999              1   mount holly               US   \n",
       "1  Less than $10,000              2          pune               IN   \n",
       "2  Less than $10,000              4       caracas               VE   \n",
       "3    $75,000-$99,999              3    scottsdale               US   \n",
       "4  Less than $10,000              4        ambala               IN   \n",
       "\n",
       "  location_region marital_status  post_to_completion_secs  \\\n",
       "0              nj       divorced                    117.0   \n",
       "1              mh         single                    535.0   \n",
       "2               a       divorced                   3201.0   \n",
       "3              az   cohabitating                    341.0   \n",
       "4              hr         single                    127.0   \n",
       "\n",
       "                          worker_id  year_of_birth  \n",
       "0  a013d8ba79229f477b5b045bf35c7d57           1956  \n",
       "1  4958cd4059bd09a144c2698d50f5bc60           1992  \n",
       "2  0a79a3e3ea28284e7a92ce0ddaa05e06           1978  \n",
       "3  1079d94e2374ade52af1de09232c9797           1963  \n",
       "4  897b71b78803b47bc19d0d31ff91856e           1993  "
      ]
     },
     "execution_count": 1,
     "metadata": {},
     "output_type": "execute_result"
    }
   ],
   "source": [
    "%matplotlib inline\n",
    "import pandas as pd\n",
    "df = pd.DataFrame.from_csv(\"mturk_surveys.csv\",index_col=None)\n",
    "df.gender[df.gender=='Female']='female'\n",
    "df.head()"
   ]
  },
  {
   "cell_type": "code",
   "execution_count": 2,
   "metadata": {
    "collapsed": false,
    "scrolled": true
   },
   "outputs": [
    {
     "data": {
      "text/html": [
       "<div>\n",
       "<table border=\"1\" class=\"dataframe\">\n",
       "  <thead>\n",
       "    <tr style=\"text-align: right;\">\n",
       "      <th></th>\n",
       "      <th>worker_id</th>\n",
       "      <th>gender</th>\n",
       "      <th>household_income</th>\n",
       "      <th>marital_status</th>\n",
       "      <th>household_size</th>\n",
       "      <th>location_city</th>\n",
       "      <th>location_country</th>\n",
       "      <th>location_region</th>\n",
       "      <th>year_of_birth</th>\n",
       "      <th>number_of_times</th>\n",
       "    </tr>\n",
       "  </thead>\n",
       "  <tbody>\n",
       "    <tr>\n",
       "      <th>0</th>\n",
       "      <td>0000ceeb6c91d4a1a53fec0de0cc3460</td>\n",
       "      <td>female</td>\n",
       "      <td>$25,000-$39,999</td>\n",
       "      <td>single</td>\n",
       "      <td>1</td>\n",
       "      <td>winston-salem</td>\n",
       "      <td>US</td>\n",
       "      <td>nc</td>\n",
       "      <td>1987</td>\n",
       "      <td>1</td>\n",
       "    </tr>\n",
       "    <tr>\n",
       "      <th>1</th>\n",
       "      <td>a35597e4ed1b898d00bea5c74086c64c</td>\n",
       "      <td>female</td>\n",
       "      <td>Less than $10,000</td>\n",
       "      <td>married</td>\n",
       "      <td>1</td>\n",
       "      <td>bangalore</td>\n",
       "      <td>IN</td>\n",
       "      <td>ka</td>\n",
       "      <td>1987</td>\n",
       "      <td>1</td>\n",
       "    </tr>\n",
       "    <tr>\n",
       "      <th>2</th>\n",
       "      <td>a354d80af82fef0d09a18f7124c495e9</td>\n",
       "      <td>male</td>\n",
       "      <td>$25,000-$39,999</td>\n",
       "      <td>engaged</td>\n",
       "      <td>4</td>\n",
       "      <td>new delhi</td>\n",
       "      <td>IN</td>\n",
       "      <td>dl</td>\n",
       "      <td>1985</td>\n",
       "      <td>1</td>\n",
       "    </tr>\n",
       "    <tr>\n",
       "      <th>3</th>\n",
       "      <td>a354d80af82fef0d09a18f7124c495e9</td>\n",
       "      <td>male</td>\n",
       "      <td>$10,000-$14,999</td>\n",
       "      <td>single</td>\n",
       "      <td>4</td>\n",
       "      <td>new delhi</td>\n",
       "      <td>IN</td>\n",
       "      <td>dl</td>\n",
       "      <td>1985</td>\n",
       "      <td>1</td>\n",
       "    </tr>\n",
       "    <tr>\n",
       "      <th>4</th>\n",
       "      <td>a354060748901d785c4720e156553e31</td>\n",
       "      <td>male</td>\n",
       "      <td>$25,000-$39,999</td>\n",
       "      <td>single</td>\n",
       "      <td>2</td>\n",
       "      <td>cleveland</td>\n",
       "      <td>US</td>\n",
       "      <td>oh</td>\n",
       "      <td>1975</td>\n",
       "      <td>1</td>\n",
       "    </tr>\n",
       "  </tbody>\n",
       "</table>\n",
       "</div>"
      ],
      "text/plain": [
       "                          worker_id  gender   household_income marital_status  \\\n",
       "0  0000ceeb6c91d4a1a53fec0de0cc3460  female    $25,000-$39,999         single   \n",
       "1  a35597e4ed1b898d00bea5c74086c64c  female  Less than $10,000        married   \n",
       "2  a354d80af82fef0d09a18f7124c495e9    male    $25,000-$39,999        engaged   \n",
       "3  a354d80af82fef0d09a18f7124c495e9    male    $10,000-$14,999         single   \n",
       "4  a354060748901d785c4720e156553e31    male    $25,000-$39,999         single   \n",
       "\n",
       "  household_size  location_city location_country location_region  \\\n",
       "0              1  winston-salem               US              nc   \n",
       "1              1      bangalore               IN              ka   \n",
       "2              4      new delhi               IN              dl   \n",
       "3              4      new delhi               IN              dl   \n",
       "4              2      cleveland               US              oh   \n",
       "\n",
       "   year_of_birth  number_of_times  \n",
       "0           1987                1  \n",
       "1           1987                1  \n",
       "2           1985                1  \n",
       "3           1985                1  \n",
       "4           1975                1  "
      ]
     },
     "execution_count": 2,
     "metadata": {},
     "output_type": "execute_result"
    }
   ],
   "source": [
    "# By grouping by the informations, count the number of times each user working on the MTurk\n",
    "\n",
    "df1 = df.groupby(['worker_id','gender','household_income','marital_status','household_size',\n",
    "                  'location_city','location_country','location_region','year_of_birth']).size().sort_values()\n",
    "df1=df1.reset_index()\n",
    "df1.columns= ['worker_id','gender','household_income','marital_status','household_size',\n",
    "              'location_city','location_country','location_region','year_of_birth','number_of_times']\n",
    "df1.head()"
   ]
  },
  {
   "cell_type": "code",
   "execution_count": 3,
   "metadata": {
    "collapsed": false
   },
   "outputs": [
    {
     "data": {
      "text/html": [
       "<div>\n",
       "<table border=\"1\" class=\"dataframe\">\n",
       "  <thead>\n",
       "    <tr style=\"text-align: right;\">\n",
       "      <th></th>\n",
       "      <th>gender</th>\n",
       "      <th>household_income</th>\n",
       "      <th>marital_status</th>\n",
       "      <th>household_size</th>\n",
       "      <th>location_city</th>\n",
       "      <th>location_country</th>\n",
       "      <th>location_region</th>\n",
       "    </tr>\n",
       "  </thead>\n",
       "  <tbody>\n",
       "    <tr>\n",
       "      <th>0</th>\n",
       "      <td>0</td>\n",
       "      <td>3</td>\n",
       "      <td>6</td>\n",
       "      <td>0</td>\n",
       "      <td>4536</td>\n",
       "      <td>125</td>\n",
       "      <td>221</td>\n",
       "    </tr>\n",
       "    <tr>\n",
       "      <th>1</th>\n",
       "      <td>0</td>\n",
       "      <td>7</td>\n",
       "      <td>4</td>\n",
       "      <td>0</td>\n",
       "      <td>235</td>\n",
       "      <td>59</td>\n",
       "      <td>174</td>\n",
       "    </tr>\n",
       "    <tr>\n",
       "      <th>2</th>\n",
       "      <td>1</td>\n",
       "      <td>3</td>\n",
       "      <td>3</td>\n",
       "      <td>3</td>\n",
       "      <td>2792</td>\n",
       "      <td>59</td>\n",
       "      <td>122</td>\n",
       "    </tr>\n",
       "    <tr>\n",
       "      <th>3</th>\n",
       "      <td>1</td>\n",
       "      <td>0</td>\n",
       "      <td>6</td>\n",
       "      <td>3</td>\n",
       "      <td>2792</td>\n",
       "      <td>59</td>\n",
       "      <td>122</td>\n",
       "    </tr>\n",
       "    <tr>\n",
       "      <th>4</th>\n",
       "      <td>1</td>\n",
       "      <td>3</td>\n",
       "      <td>6</td>\n",
       "      <td>1</td>\n",
       "      <td>829</td>\n",
       "      <td>125</td>\n",
       "      <td>244</td>\n",
       "    </tr>\n",
       "  </tbody>\n",
       "</table>\n",
       "</div>"
      ],
      "text/plain": [
       "   gender  household_income  marital_status  household_size  location_city  \\\n",
       "0       0                 3               6               0           4536   \n",
       "1       0                 7               4               0            235   \n",
       "2       1                 3               3               3           2792   \n",
       "3       1                 0               6               3           2792   \n",
       "4       1                 3               6               1            829   \n",
       "\n",
       "   location_country  location_region  \n",
       "0               125              221  \n",
       "1                59              174  \n",
       "2                59              122  \n",
       "3                59              122  \n",
       "4               125              244  "
      ]
     },
     "execution_count": 3,
     "metadata": {},
     "output_type": "execute_result"
    }
   ],
   "source": [
    "# Through preprocessing, encode the categorical strings into categorical number \n",
    "\n",
    "from sklearn import preprocessing as pr\n",
    "g = pd.DataFrame(pr.LabelEncoder().fit_transform(df1.gender))\n",
    "hi = pd.DataFrame(pr.LabelEncoder().fit_transform(df1.household_income))\n",
    "ms = pd.DataFrame(pr.LabelEncoder().fit_transform(df1.marital_status))\n",
    "hs = pd.DataFrame(pr.LabelEncoder().fit_transform(df1.household_size))\n",
    "lci = pd.DataFrame(pr.LabelEncoder().fit_transform(df1.location_city))\n",
    "lc = pd.DataFrame(pr.LabelEncoder().fit_transform(df1.location_country))\n",
    "lr = pd.DataFrame(pr.LabelEncoder().fit_transform(df1.location_region))\n",
    "enc = pd.concat([g,hi,ms,hs,lci,lc,lr],axis=1)\n",
    "enc.columns = ['gender','household_income','marital_status','household_size','location_city','location_country','location_region']\n",
    "enc.head()"
   ]
  },
  {
   "cell_type": "code",
   "execution_count": 4,
   "metadata": {
    "collapsed": false
   },
   "outputs": [
    {
     "name": "stdout",
     "output_type": "stream",
     "text": [
      "Optimization terminated successfully.\n",
      "         Current function value: 1.312981\n",
      "         Iterations 5\n"
     ]
    },
    {
     "data": {
      "text/html": [
       "<table class=\"simpletable\">\n",
       "<caption>Poisson Regression Results</caption>\n",
       "<tr>\n",
       "  <th>Dep. Variable:</th>  <td>number_of_times</td> <th>  No. Observations:  </th>   <td> 39519</td>  \n",
       "</tr>\n",
       "<tr>\n",
       "  <th>Model:</th>              <td>Poisson</td>     <th>  Df Residuals:      </th>   <td> 39512</td>  \n",
       "</tr>\n",
       "<tr>\n",
       "  <th>Method:</th>               <td>MLE</td>       <th>  Df Model:          </th>   <td>     6</td>  \n",
       "</tr>\n",
       "<tr>\n",
       "  <th>Date:</th>          <td>Wed, 19 Oct 2016</td> <th>  Pseudo R-squ.:     </th> <td>-0.0006779</td>\n",
       "</tr>\n",
       "<tr>\n",
       "  <th>Time:</th>              <td>20:45:27</td>     <th>  Log-Likelihood:    </th>  <td> -51888.</td> \n",
       "</tr>\n",
       "<tr>\n",
       "  <th>converged:</th>           <td>True</td>       <th>  LL-Null:           </th>  <td> -51853.</td> \n",
       "</tr>\n",
       "<tr>\n",
       "  <th> </th>                      <td> </td>        <th>  LLR p-value:       </th>   <td> 1.000</td>  \n",
       "</tr>\n",
       "</table>\n",
       "<table class=\"simpletable\">\n",
       "<tr>\n",
       "          <td></td>            <th>coef</th>     <th>std err</th>      <th>z</th>      <th>P>|z|</th> <th>[95.0% Conf. Int.]</th> \n",
       "</tr>\n",
       "<tr>\n",
       "  <th>gender</th>           <td>   -0.0017</td> <td>    0.009</td> <td>   -0.192</td> <td> 0.847</td> <td>   -0.019     0.016</td>\n",
       "</tr>\n",
       "<tr>\n",
       "  <th>household_income</th> <td>    0.0171</td> <td>    0.002</td> <td>    8.608</td> <td> 0.000</td> <td>    0.013     0.021</td>\n",
       "</tr>\n",
       "<tr>\n",
       "  <th>marital_status</th>   <td>    0.0136</td> <td>    0.002</td> <td>    5.604</td> <td> 0.000</td> <td>    0.009     0.018</td>\n",
       "</tr>\n",
       "<tr>\n",
       "  <th>household_size</th>   <td>    0.0133</td> <td>    0.003</td> <td>    4.173</td> <td> 0.000</td> <td>    0.007     0.019</td>\n",
       "</tr>\n",
       "<tr>\n",
       "  <th>location_city</th>    <td>-1.951e-06</td> <td> 3.24e-06</td> <td>   -0.601</td> <td> 0.548</td> <td>-8.31e-06  4.41e-06</td>\n",
       "</tr>\n",
       "<tr>\n",
       "  <th>location_country</th> <td>    0.0008</td> <td>    0.000</td> <td>    6.625</td> <td> 0.000</td> <td>    0.001     0.001</td>\n",
       "</tr>\n",
       "<tr>\n",
       "  <th>location_region</th>  <td>    0.0002</td> <td> 4.79e-05</td> <td>    5.136</td> <td> 0.000</td> <td>    0.000     0.000</td>\n",
       "</tr>\n",
       "</table>"
      ],
      "text/plain": [
       "<class 'statsmodels.iolib.summary.Summary'>\n",
       "\"\"\"\n",
       "                          Poisson Regression Results                          \n",
       "==============================================================================\n",
       "Dep. Variable:        number_of_times   No. Observations:                39519\n",
       "Model:                        Poisson   Df Residuals:                    39512\n",
       "Method:                           MLE   Df Model:                            6\n",
       "Date:                Wed, 19 Oct 2016   Pseudo R-squ.:              -0.0006779\n",
       "Time:                        20:45:27   Log-Likelihood:                -51888.\n",
       "converged:                       True   LL-Null:                       -51853.\n",
       "                                        LLR p-value:                     1.000\n",
       "====================================================================================\n",
       "                       coef    std err          z      P>|z|      [95.0% Conf. Int.]\n",
       "------------------------------------------------------------------------------------\n",
       "gender              -0.0017      0.009     -0.192      0.847        -0.019     0.016\n",
       "household_income     0.0171      0.002      8.608      0.000         0.013     0.021\n",
       "marital_status       0.0136      0.002      5.604      0.000         0.009     0.018\n",
       "household_size       0.0133      0.003      4.173      0.000         0.007     0.019\n",
       "location_city    -1.951e-06   3.24e-06     -0.601      0.548     -8.31e-06  4.41e-06\n",
       "location_country     0.0008      0.000      6.625      0.000         0.001     0.001\n",
       "location_region      0.0002   4.79e-05      5.136      0.000         0.000     0.000\n",
       "====================================================================================\n",
       "\"\"\""
      ]
     },
     "execution_count": 4,
     "metadata": {},
     "output_type": "execute_result"
    }
   ],
   "source": [
    "# Running Poisson regression based on all categorical data\n",
    "\n",
    "from statsmodels.discrete.discrete_model import Poisson\n",
    "ps_gender = Poisson(df1.number_of_times,enc).fit()\n",
    "ps_gender.summary()"
   ]
  },
  {
   "cell_type": "markdown",
   "metadata": {},
   "source": [
    "If we set our alpha level at 0.05, only \"gender\" and \"location_city\" would fail to reject the null hypothesis and conclude that the Coef. is not statistically different from zero, which illustrate that it barely has bias on \"gender\" and \"location_city\".\n",
    "However, for the other variables (\"household_income\",\"marital_status\",\"household_size\",\"location_country\",\"location_region\"), they all shows statistically significant coef. to the \"number of times\" user participated in the work. "
   ]
  },
  {
   "cell_type": "code",
   "execution_count": 5,
   "metadata": {
    "collapsed": false
   },
   "outputs": [
    {
     "data": {
      "text/plain": [
       "<matplotlib.axes._subplots.AxesSubplot at 0x2db3256acf8>"
      ]
     },
     "execution_count": 5,
     "metadata": {},
     "output_type": "execute_result"
    },
    {
     "data": {
      "image/png": "[encoded data removed]",
      "text/plain": [
       "<matplotlib.figure.Figure at 0x2db3256a320>"
      ]
     },
     "metadata": {},
     "output_type": "display_data"
    }
   ],
   "source": [
    "# Some comparison plot\n",
    "\n",
    "df_g = df1.groupby(['number_of_times','gender']).size()\n",
    "df_g.unstack('gender').plot()"
   ]
  },
  {
   "cell_type": "code",
   "execution_count": 6,
   "metadata": {
    "collapsed": false
   },
   "outputs": [
    {
     "data": {
      "text/plain": [
       "<matplotlib.axes._subplots.AxesSubplot at 0x2db325b10b8>"
      ]
     },
     "execution_count": 6,
     "metadata": {},
     "output_type": "execute_result"
    },
    {
     "data": {
      "image/png": "[encoded data removed]",
      "text/plain": [
       "<matplotlib.figure.Figure at 0x2db3256a1d0>"
      ]
     },
     "metadata": {},
     "output_type": "display_data"
    }
   ],
   "source": [
    "df_g = df1.groupby(['number_of_times','household_income']).size()\n",
    "df_g.unstack('household_income').plot()"
   ]
  },
  {
   "cell_type": "code",
   "execution_count": 7,
   "metadata": {
    "collapsed": false
   },
   "outputs": [
    {
     "data": {
      "text/plain": [
       "<matplotlib.axes._subplots.AxesSubplot at 0x2db33085e10>"
      ]
     },
     "execution_count": 7,
     "metadata": {},
     "output_type": "execute_result"
    },
    {
     "data": {
      "image/png": "[encoded data removed]",
      "text/plain": [
       "<matplotlib.figure.Figure at 0x2db330b4710>"
      ]
     },
     "metadata": {},
     "output_type": "display_data"
    }
   ],
   "source": [
    "df_g = df1.groupby(['number_of_times','marital_status']).size()\n",
    "df_g.unstack('marital_status').plot()"
   ]
  },
  {
   "cell_type": "code",
   "execution_count": 8,
   "metadata": {
    "collapsed": false
   },
   "outputs": [
    {
     "data": {
      "text/plain": [
       "<matplotlib.axes._subplots.AxesSubplot at 0x2db3266e240>"
      ]
     },
     "execution_count": 8,
     "metadata": {},
     "output_type": "execute_result"
    },
    {
     "data": {
      "image/png": "[encoded data removed]",
      "text/plain": [
       "<matplotlib.figure.Figure at 0x2db32653f60>"
      ]
     },
     "metadata": {},
     "output_type": "display_data"
    }
   ],
   "source": [
    "df_g = df1.groupby(['number_of_times','household_size']).size()\n",
    "df_g.unstack('household_size').plot()"
   ]
  }
 ],
 "metadata": {
  "anaconda-cloud": {},
  "kernelspec": {
   "display_name": "Python [Root]",
   "language": "python",
   "name": "Python [Root]"
  },
  "language_info": {
   "codemirror_mode": {
    "name": "ipython",
    "version": 3
   },
   "file_extension": ".py",
   "mimetype": "text/x-python",
   "name": "python",
   "nbconvert_exporter": "python",
   "pygments_lexer": "ipython3",
   "version": "3.5.1"
  }
 },
 "nbformat": 4,
 "nbformat_minor": 0
}
