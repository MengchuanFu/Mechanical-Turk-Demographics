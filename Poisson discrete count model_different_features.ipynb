{
 "cells": [
  {
   "cell_type": "markdown",
   "metadata": {},
   "source": [
    "# Poisson discrete count model for MTurk demographics"
   ]
  },
  {
   "cell_type": "code",
   "execution_count": 1,
   "metadata": {
    "collapsed": false
   },
   "outputs": [
    {
     "data": {
      "text/html": [
       "<div>\n",
       "<table border=\"1\" class=\"dataframe\">\n",
       "  <thead>\n",
       "    <tr style=\"text-align: right;\">\n",
       "      <th></th>\n",
       "      <th>Unnamed: 0</th>\n",
       "      <th>gender</th>\n",
       "      <th>hit_answered_date</th>\n",
       "      <th>hit_creation_date</th>\n",
       "      <th>household_income</th>\n",
       "      <th>household_size</th>\n",
       "      <th>location_city</th>\n",
       "      <th>location_country</th>\n",
       "      <th>location_region</th>\n",
       "      <th>marital_status</th>\n",
       "      <th>post_to_completion_secs</th>\n",
       "      <th>worker_id</th>\n",
       "      <th>year_of_birth</th>\n",
       "    </tr>\n",
       "  </thead>\n",
       "  <tbody>\n",
       "    <tr>\n",
       "      <th>0</th>\n",
       "      <td>0</td>\n",
       "      <td>female</td>\n",
       "      <td>2016-09-14 17:37:11.297</td>\n",
       "      <td>2016-09-14 17:35:14.000</td>\n",
       "      <td>$40,000-$59,999</td>\n",
       "      <td>1</td>\n",
       "      <td>mount holly</td>\n",
       "      <td>US</td>\n",
       "      <td>nj</td>\n",
       "      <td>divorced</td>\n",
       "      <td>117.0</td>\n",
       "      <td>a013d8ba79229f477b5b045bf35c7d57</td>\n",
       "      <td>1956</td>\n",
       "    </tr>\n",
       "    <tr>\n",
       "      <th>1</th>\n",
       "      <td>1</td>\n",
       "      <td>male</td>\n",
       "      <td>2016-09-14 17:29:09.539</td>\n",
       "      <td>2016-09-14 17:20:14.000</td>\n",
       "      <td>Less than $10,000</td>\n",
       "      <td>2</td>\n",
       "      <td>pune</td>\n",
       "      <td>IN</td>\n",
       "      <td>mh</td>\n",
       "      <td>single</td>\n",
       "      <td>535.0</td>\n",
       "      <td>4958cd4059bd09a144c2698d50f5bc60</td>\n",
       "      <td>1992</td>\n",
       "    </tr>\n",
       "    <tr>\n",
       "      <th>2</th>\n",
       "      <td>2</td>\n",
       "      <td>female</td>\n",
       "      <td>2016-09-14 17:13:35.428</td>\n",
       "      <td>2016-09-14 16:20:14.000</td>\n",
       "      <td>Less than $10,000</td>\n",
       "      <td>4</td>\n",
       "      <td>caracas</td>\n",
       "      <td>VE</td>\n",
       "      <td>a</td>\n",
       "      <td>divorced</td>\n",
       "      <td>3201.0</td>\n",
       "      <td>0a79a3e3ea28284e7a92ce0ddaa05e06</td>\n",
       "      <td>1978</td>\n",
       "    </tr>\n",
       "    <tr>\n",
       "      <th>3</th>\n",
       "      <td>3</td>\n",
       "      <td>female</td>\n",
       "      <td>2016-09-14 17:10:54.723</td>\n",
       "      <td>2016-09-14 17:05:13.000</td>\n",
       "      <td>$75,000-$99,999</td>\n",
       "      <td>3</td>\n",
       "      <td>scottsdale</td>\n",
       "      <td>US</td>\n",
       "      <td>az</td>\n",
       "      <td>cohabitating</td>\n",
       "      <td>341.0</td>\n",
       "      <td>1079d94e2374ade52af1de09232c9797</td>\n",
       "      <td>1963</td>\n",
       "    </tr>\n",
       "    <tr>\n",
       "      <th>4</th>\n",
       "      <td>4</td>\n",
       "      <td>male</td>\n",
       "      <td>2016-09-14 16:52:20.792</td>\n",
       "      <td>2016-09-14 16:50:13.000</td>\n",
       "      <td>Less than $10,000</td>\n",
       "      <td>4</td>\n",
       "      <td>ambala</td>\n",
       "      <td>IN</td>\n",
       "      <td>hr</td>\n",
       "      <td>single</td>\n",
       "      <td>127.0</td>\n",
       "      <td>897b71b78803b47bc19d0d31ff91856e</td>\n",
       "      <td>1993</td>\n",
       "    </tr>\n",
       "  </tbody>\n",
       "</table>\n",
       "</div>"
      ],
      "text/plain": [
       "   Unnamed: 0  gender        hit_answered_date        hit_creation_date  \\\n",
       "0           0  female  2016-09-14 17:37:11.297  2016-09-14 17:35:14.000   \n",
       "1           1    male  2016-09-14 17:29:09.539  2016-09-14 17:20:14.000   \n",
       "2           2  female  2016-09-14 17:13:35.428  2016-09-14 16:20:14.000   \n",
       "3           3  female  2016-09-14 17:10:54.723  2016-09-14 17:05:13.000   \n",
       "4           4    male  2016-09-14 16:52:20.792  2016-09-14 16:50:13.000   \n",
       "\n",
       "    household_income household_size location_city location_country  \\\n",
       "0    $40,000-$59,999              1   mount holly               US   \n",
       "1  Less than $10,000              2          pune               IN   \n",
       "2  Less than $10,000              4       caracas               VE   \n",
       "3    $75,000-$99,999              3    scottsdale               US   \n",
       "4  Less than $10,000              4        ambala               IN   \n",
       "\n",
       "  location_region marital_status  post_to_completion_secs  \\\n",
       "0              nj       divorced                    117.0   \n",
       "1              mh         single                    535.0   \n",
       "2               a       divorced                   3201.0   \n",
       "3              az   cohabitating                    341.0   \n",
       "4              hr         single                    127.0   \n",
       "\n",
       "                          worker_id  year_of_birth  \n",
       "0  a013d8ba79229f477b5b045bf35c7d57           1956  \n",
       "1  4958cd4059bd09a144c2698d50f5bc60           1992  \n",
       "2  0a79a3e3ea28284e7a92ce0ddaa05e06           1978  \n",
       "3  1079d94e2374ade52af1de09232c9797           1963  \n",
       "4  897b71b78803b47bc19d0d31ff91856e           1993  "
      ]
     },
     "execution_count": 1,
     "metadata": {},
     "output_type": "execute_result"
    }
   ],
   "source": [
    "%matplotlib inline\n",
    "import pandas as pd\n",
    "pd.options.mode.chained_assignment = None  # default='warn'\n",
    "\n",
    "df = pd.DataFrame.from_csv(\"mturk_surveys.csv\",index_col=None)\n",
    "df.gender[df.gender=='Female']='female'\n",
    "df.head()"
   ]
  },
  {
   "cell_type": "code",
   "execution_count": 2,
   "metadata": {
    "collapsed": false,
    "scrolled": true
   },
   "outputs": [
    {
     "data": {
      "text/html": [
       "<div>\n",
       "<table border=\"1\" class=\"dataframe\">\n",
       "  <thead>\n",
       "    <tr style=\"text-align: right;\">\n",
       "      <th></th>\n",
       "      <th>worker_id</th>\n",
       "      <th>gender</th>\n",
       "      <th>household_income</th>\n",
       "      <th>marital_status</th>\n",
       "      <th>household_size</th>\n",
       "      <th>location_country</th>\n",
       "      <th>year_of_birth</th>\n",
       "      <th>number_of_times</th>\n",
       "    </tr>\n",
       "  </thead>\n",
       "  <tbody>\n",
       "    <tr>\n",
       "      <th>0</th>\n",
       "      <td>0000ceeb6c91d4a1a53fec0de0cc3460</td>\n",
       "      <td>female</td>\n",
       "      <td>$25,000-$39,999</td>\n",
       "      <td>single</td>\n",
       "      <td>1</td>\n",
       "      <td>US</td>\n",
       "      <td>1987</td>\n",
       "      <td>1</td>\n",
       "    </tr>\n",
       "    <tr>\n",
       "      <th>1</th>\n",
       "      <td>a14593ac153cc79be3b39dd5d7c92b10</td>\n",
       "      <td>male</td>\n",
       "      <td>Less than $10,000</td>\n",
       "      <td>married</td>\n",
       "      <td>3</td>\n",
       "      <td>IN</td>\n",
       "      <td>1987</td>\n",
       "      <td>1</td>\n",
       "    </tr>\n",
       "    <tr>\n",
       "      <th>2</th>\n",
       "      <td>a14301a628ff22093311bd67a3b4377e</td>\n",
       "      <td>male</td>\n",
       "      <td>$40,000-$59,999</td>\n",
       "      <td>married</td>\n",
       "      <td>2</td>\n",
       "      <td>DE</td>\n",
       "      <td>1982</td>\n",
       "      <td>1</td>\n",
       "    </tr>\n",
       "    <tr>\n",
       "      <th>3</th>\n",
       "      <td>a14301a628ff22093311bd67a3b4377e</td>\n",
       "      <td>male</td>\n",
       "      <td>$40,000-$59,999</td>\n",
       "      <td>cohabitating</td>\n",
       "      <td>2</td>\n",
       "      <td>DE</td>\n",
       "      <td>1981</td>\n",
       "      <td>1</td>\n",
       "    </tr>\n",
       "    <tr>\n",
       "      <th>4</th>\n",
       "      <td>a14301a628ff22093311bd67a3b4377e</td>\n",
       "      <td>male</td>\n",
       "      <td>$100,000 or more</td>\n",
       "      <td>married</td>\n",
       "      <td>3</td>\n",
       "      <td>DE</td>\n",
       "      <td>1980</td>\n",
       "      <td>1</td>\n",
       "    </tr>\n",
       "  </tbody>\n",
       "</table>\n",
       "</div>"
      ],
      "text/plain": [
       "                          worker_id  gender   household_income marital_status  \\\n",
       "0  0000ceeb6c91d4a1a53fec0de0cc3460  female    $25,000-$39,999         single   \n",
       "1  a14593ac153cc79be3b39dd5d7c92b10    male  Less than $10,000        married   \n",
       "2  a14301a628ff22093311bd67a3b4377e    male    $40,000-$59,999        married   \n",
       "3  a14301a628ff22093311bd67a3b4377e    male    $40,000-$59,999   cohabitating   \n",
       "4  a14301a628ff22093311bd67a3b4377e    male   $100,000 or more        married   \n",
       "\n",
       "  household_size location_country  year_of_birth  number_of_times  \n",
       "0              1               US           1987                1  \n",
       "1              3               IN           1987                1  \n",
       "2              2               DE           1982                1  \n",
       "3              2               DE           1981                1  \n",
       "4              3               DE           1980                1  "
      ]
     },
     "execution_count": 2,
     "metadata": {},
     "output_type": "execute_result"
    }
   ],
   "source": [
    "# By grouping by the informations, count the number of times each user working on the MTurk\n",
    "\n",
    "df1 = df.groupby(['worker_id','gender','household_income','marital_status','household_size',\n",
    "                  'location_country','year_of_birth']).size().sort_values()\n",
    "df1=df1.reset_index()\n",
    "df1.columns= ['worker_id','gender','household_income','marital_status','household_size',\n",
    "              'location_country','year_of_birth','number_of_times']\n",
    "df1.head()"
   ]
  },
  {
   "cell_type": "code",
   "execution_count": 3,
   "metadata": {
    "collapsed": false
   },
   "outputs": [
    {
     "data": {
      "text/plain": [
       "0       US\n",
       "1       IN\n",
       "2    Other\n",
       "3    Other\n",
       "4    Other\n",
       "Name: location_country, dtype: object"
      ]
     },
     "execution_count": 3,
     "metadata": {},
     "output_type": "execute_result"
    }
   ],
   "source": [
    "# Group the country information into three categories - \"US\", \"IN\", \"Other\"\n",
    "df1.location_country[(df1.location_country!='US')&(df1.location_country!='IN')]='Other'\n",
    "# Group the marital information into two categories - \"married\", \"single\"\n",
    "df1.marital_status[df1.marital_status!='married']='single'"
   ]
  },
  {
   "cell_type": "code",
   "execution_count": 5,
   "metadata": {
    "collapsed": false
   },
   "outputs": [],
   "source": [
    "# Through preprocessing, encode the categorical strings into categorical number \n",
    "# Additionally, get the 'year_of_birth' in decade version\n",
    "\n",
    "g = pd.get_dummies(df1.gender)\n",
    "hi = pd.get_dummies(df1.household_income)\n",
    "ms = pd.get_dummies(df1.marital_status)\n",
    "hs = pd.get_dummies(df1.household_size)\n",
    "lc = pd.get_dummies(df1.location_country)\n",
    "yb = df1.year_of_birth//10*10"
   ]
  },
  {
   "cell_type": "code",
   "execution_count": 6,
   "metadata": {
    "collapsed": false
   },
   "outputs": [
    {
     "data": {
      "text/plain": [
       "<matplotlib.axes._subplots.AxesSubplot at 0x18727b63908>"
      ]
     },
     "execution_count": 6,
     "metadata": {},
     "output_type": "execute_result"
    },
    {
     "data": {
      "image/png": "[encoded data removed]",
      "text/plain": [
       "<matplotlib.figure.Figure at 0x187246a66d8>"
      ]
     },
     "metadata": {},
     "output_type": "display_data"
    }
   ],
   "source": [
    "df.groupby(df1.gender).size().plot(kind='bar')"
   ]
  },
  {
   "cell_type": "code",
   "execution_count": 47,
   "metadata": {
    "collapsed": false
   },
   "outputs": [
    {
     "name": "stdout",
     "output_type": "stream",
     "text": [
      "Optimization terminated successfully.\n",
      "         Current function value: 1.423447\n",
      "         Iterations 5\n"
     ]
    },
    {
     "data": {
      "text/html": [
       "<table class=\"simpletable\">\n",
       "<caption>Poisson Regression Results</caption>\n",
       "<tr>\n",
       "  <th>Dep. Variable:</th>  <td>number_of_times</td> <th>  No. Observations:  </th>  <td> 36497</td>  \n",
       "</tr>\n",
       "<tr>\n",
       "  <th>Model:</th>              <td>Poisson</td>     <th>  Df Residuals:      </th>  <td> 36495</td>  \n",
       "</tr>\n",
       "<tr>\n",
       "  <th>Method:</th>               <td>MLE</td>       <th>  Df Model:          </th>  <td>     1</td>  \n",
       "</tr>\n",
       "<tr>\n",
       "  <th>Date:</th>          <td>Sat, 22 Oct 2016</td> <th>  Pseudo R-squ.:     </th> <td>0.0001055</td>\n",
       "</tr>\n",
       "<tr>\n",
       "  <th>Time:</th>              <td>14:07:02</td>     <th>  Log-Likelihood:    </th> <td> -51952.</td> \n",
       "</tr>\n",
       "<tr>\n",
       "  <th>converged:</th>           <td>True</td>       <th>  LL-Null:           </th> <td> -51957.</td> \n",
       "</tr>\n",
       "<tr>\n",
       "  <th> </th>                      <td> </td>        <th>  LLR p-value:       </th> <td>0.0009289</td>\n",
       "</tr>\n",
       "</table>\n",
       "<table class=\"simpletable\">\n",
       "<tr>\n",
       "     <td></td>       <th>coef</th>     <th>std err</th>      <th>z</th>      <th>P>|z|</th> <th>[95.0% Conf. Int.]</th> \n",
       "</tr>\n",
       "<tr>\n",
       "  <th>female</th> <td>    0.3778</td> <td>    0.006</td> <td>   61.570</td> <td> 0.000</td> <td>    0.366     0.390</td>\n",
       "</tr>\n",
       "<tr>\n",
       "  <th>male</th>   <td>    0.3489</td> <td>    0.006</td> <td>   56.190</td> <td> 0.000</td> <td>    0.337     0.361</td>\n",
       "</tr>\n",
       "</table>"
      ],
      "text/plain": [
       "<class 'statsmodels.iolib.summary.Summary'>\n",
       "\"\"\"\n",
       "                          Poisson Regression Results                          \n",
       "==============================================================================\n",
       "Dep. Variable:        number_of_times   No. Observations:                36497\n",
       "Model:                        Poisson   Df Residuals:                    36495\n",
       "Method:                           MLE   Df Model:                            1\n",
       "Date:                Sat, 22 Oct 2016   Pseudo R-squ.:               0.0001055\n",
       "Time:                        14:07:02   Log-Likelihood:                -51952.\n",
       "converged:                       True   LL-Null:                       -51957.\n",
       "                                        LLR p-value:                 0.0009289\n",
       "==============================================================================\n",
       "                 coef    std err          z      P>|z|      [95.0% Conf. Int.]\n",
       "------------------------------------------------------------------------------\n",
       "female         0.3778      0.006     61.570      0.000         0.366     0.390\n",
       "male           0.3489      0.006     56.190      0.000         0.337     0.361\n",
       "==============================================================================\n",
       "\"\"\""
      ]
     },
     "execution_count": 47,
     "metadata": {},
     "output_type": "execute_result"
    }
   ],
   "source": [
    "from statsmodels.discrete.discrete_model import Poisson\n",
    "ps_gender = Poisson(df1.number_of_times,g).fit()\n",
    "ps_gender.summary()"
   ]
  },
  {
   "cell_type": "code",
   "execution_count": 11,
   "metadata": {
    "collapsed": false
   },
   "outputs": [
    {
     "data": {
      "text/plain": [
       "<matplotlib.axes._subplots.AxesSubplot at 0x1872b0f9828>"
      ]
     },
     "execution_count": 11,
     "metadata": {},
     "output_type": "execute_result"
    },
    {
     "data": {
      "image/png": "[encoded data removed]",
      "text/plain": [
       "<matplotlib.figure.Figure at 0x1872b0f2cf8>"
      ]
     },
     "metadata": {},
     "output_type": "display_data"
    }
   ],
   "source": [
    "df.groupby(df1.marital_status).size().plot(kind='bar')"
   ]
  },
  {
   "cell_type": "code",
   "execution_count": 32,
   "metadata": {
    "collapsed": false
   },
   "outputs": [
    {
     "name": "stdout",
     "output_type": "stream",
     "text": [
      "Optimization terminated successfully.\n",
      "         Current function value: 1.421740\n",
      "         Iterations 5\n"
     ]
    },
    {
     "data": {
      "text/html": [
       "<table class=\"simpletable\">\n",
       "<caption>Poisson Regression Results</caption>\n",
       "<tr>\n",
       "  <th>Dep. Variable:</th>  <td>number_of_times</td> <th>  No. Observations:  </th>  <td> 36497</td>  \n",
       "</tr>\n",
       "<tr>\n",
       "  <th>Model:</th>              <td>Poisson</td>     <th>  Df Residuals:      </th>  <td> 36495</td>  \n",
       "</tr>\n",
       "<tr>\n",
       "  <th>Method:</th>               <td>MLE</td>       <th>  Df Model:          </th>  <td>     1</td>  \n",
       "</tr>\n",
       "<tr>\n",
       "  <th>Date:</th>          <td>Sat, 22 Oct 2016</td> <th>  Pseudo R-squ.:     </th> <td>0.001305</td> \n",
       "</tr>\n",
       "<tr>\n",
       "  <th>Time:</th>              <td>12:58:23</td>     <th>  Log-Likelihood:    </th> <td> -51889.</td> \n",
       "</tr>\n",
       "<tr>\n",
       "  <th>converged:</th>           <td>True</td>       <th>  LL-Null:           </th> <td> -51957.</td> \n",
       "</tr>\n",
       "<tr>\n",
       "  <th> </th>                      <td> </td>        <th>  LLR p-value:       </th> <td>2.487e-31</td>\n",
       "</tr>\n",
       "</table>\n",
       "<table class=\"simpletable\">\n",
       "<tr>\n",
       "     <td></td>        <th>coef</th>     <th>std err</th>      <th>z</th>      <th>P>|z|</th> <th>[95.0% Conf. Int.]</th> \n",
       "</tr>\n",
       "<tr>\n",
       "  <th>married</th> <td>    0.4256</td> <td>    0.007</td> <td>   62.601</td> <td> 0.000</td> <td>    0.412     0.439</td>\n",
       "</tr>\n",
       "<tr>\n",
       "  <th>single</th>  <td>    0.3220</td> <td>    0.006</td> <td>   56.570</td> <td> 0.000</td> <td>    0.311     0.333</td>\n",
       "</tr>\n",
       "</table>"
      ],
      "text/plain": [
       "<class 'statsmodels.iolib.summary.Summary'>\n",
       "\"\"\"\n",
       "                          Poisson Regression Results                          \n",
       "==============================================================================\n",
       "Dep. Variable:        number_of_times   No. Observations:                36497\n",
       "Model:                        Poisson   Df Residuals:                    36495\n",
       "Method:                           MLE   Df Model:                            1\n",
       "Date:                Sat, 22 Oct 2016   Pseudo R-squ.:                0.001305\n",
       "Time:                        12:58:23   Log-Likelihood:                -51889.\n",
       "converged:                       True   LL-Null:                       -51957.\n",
       "                                        LLR p-value:                 2.487e-31\n",
       "==============================================================================\n",
       "                 coef    std err          z      P>|z|      [95.0% Conf. Int.]\n",
       "------------------------------------------------------------------------------\n",
       "married        0.4256      0.007     62.601      0.000         0.412     0.439\n",
       "single         0.3220      0.006     56.570      0.000         0.311     0.333\n",
       "==============================================================================\n",
       "\"\"\""
      ]
     },
     "execution_count": 32,
     "metadata": {},
     "output_type": "execute_result"
    }
   ],
   "source": [
    "from statsmodels.discrete.discrete_model import Poisson\n",
    "ps_gender = Poisson(df1.number_of_times,ms).fit()\n",
    "ps_gender.summary()"
   ]
  },
  {
   "cell_type": "code",
   "execution_count": 37,
   "metadata": {
    "collapsed": false
   },
   "outputs": [
    {
     "name": "stdout",
     "output_type": "stream",
     "text": [
      "Optimization terminated successfully.\n",
      "         Current function value: 1.421687\n",
      "         Iterations 8\n"
     ]
    },
    {
     "data": {
      "text/html": [
       "<table class=\"simpletable\">\n",
       "<caption>Poisson Regression Results</caption>\n",
       "<tr>\n",
       "  <th>Dep. Variable:</th>  <td>number_of_times</td> <th>  No. Observations:  </th>  <td> 36497</td>  \n",
       "</tr>\n",
       "<tr>\n",
       "  <th>Model:</th>              <td>Poisson</td>     <th>  Df Residuals:      </th>  <td> 36494</td>  \n",
       "</tr>\n",
       "<tr>\n",
       "  <th>Method:</th>               <td>MLE</td>       <th>  Df Model:          </th>  <td>     2</td>  \n",
       "</tr>\n",
       "<tr>\n",
       "  <th>Date:</th>          <td>Sat, 22 Oct 2016</td> <th>  Pseudo R-squ.:     </th> <td>0.001342</td> \n",
       "</tr>\n",
       "<tr>\n",
       "  <th>Time:</th>              <td>12:59:45</td>     <th>  Log-Likelihood:    </th> <td> -51887.</td> \n",
       "</tr>\n",
       "<tr>\n",
       "  <th>converged:</th>           <td>True</td>       <th>  LL-Null:           </th> <td> -51957.</td> \n",
       "</tr>\n",
       "<tr>\n",
       "  <th> </th>                      <td> </td>        <th>  LLR p-value:       </th> <td>5.149e-31</td>\n",
       "</tr>\n",
       "</table>\n",
       "<table class=\"simpletable\">\n",
       "<tr>\n",
       "     <td></td>        <th>coef</th>     <th>std err</th>      <th>z</th>      <th>P>|z|</th> <th>[95.0% Conf. Int.]</th> \n",
       "</tr>\n",
       "<tr>\n",
       "  <th>married</th> <td>    0.2375</td> <td> 1.45e+05</td> <td> 1.63e-06</td> <td> 1.000</td> <td>-2.85e+05  2.85e+05</td>\n",
       "</tr>\n",
       "<tr>\n",
       "  <th>single</th>  <td>    0.1360</td> <td> 1.45e+05</td> <td> 9.36e-07</td> <td> 1.000</td> <td>-2.85e+05  2.85e+05</td>\n",
       "</tr>\n",
       "<tr>\n",
       "  <th>female</th>  <td>    0.1955</td> <td> 1.45e+05</td> <td> 1.34e-06</td> <td> 1.000</td> <td>-2.85e+05  2.85e+05</td>\n",
       "</tr>\n",
       "<tr>\n",
       "  <th>male</th>    <td>    0.1781</td> <td> 1.45e+05</td> <td> 1.22e-06</td> <td> 1.000</td> <td>-2.85e+05  2.85e+05</td>\n",
       "</tr>\n",
       "</table>"
      ],
      "text/plain": [
       "<class 'statsmodels.iolib.summary.Summary'>\n",
       "\"\"\"\n",
       "                          Poisson Regression Results                          \n",
       "==============================================================================\n",
       "Dep. Variable:        number_of_times   No. Observations:                36497\n",
       "Model:                        Poisson   Df Residuals:                    36494\n",
       "Method:                           MLE   Df Model:                            2\n",
       "Date:                Sat, 22 Oct 2016   Pseudo R-squ.:                0.001342\n",
       "Time:                        12:59:45   Log-Likelihood:                -51887.\n",
       "converged:                       True   LL-Null:                       -51957.\n",
       "                                        LLR p-value:                 5.149e-31\n",
       "==============================================================================\n",
       "                 coef    std err          z      P>|z|      [95.0% Conf. Int.]\n",
       "------------------------------------------------------------------------------\n",
       "married        0.2375   1.45e+05   1.63e-06      1.000     -2.85e+05  2.85e+05\n",
       "single         0.1360   1.45e+05   9.36e-07      1.000     -2.85e+05  2.85e+05\n",
       "female         0.1955   1.45e+05   1.34e-06      1.000     -2.85e+05  2.85e+05\n",
       "male           0.1781   1.45e+05   1.22e-06      1.000     -2.85e+05  2.85e+05\n",
       "==============================================================================\n",
       "\"\"\""
      ]
     },
     "execution_count": 37,
     "metadata": {},
     "output_type": "execute_result"
    }
   ],
   "source": [
    "from statsmodels.discrete.discrete_model import Poisson\n",
    "ps_gender = Poisson(df1.number_of_times,pd.concat([ms,g],axis=1)).fit()\n",
    "ps_gender.summary()"
   ]
  },
  {
   "cell_type": "code",
   "execution_count": 13,
   "metadata": {
    "collapsed": false
   },
   "outputs": [
    {
     "data": {
      "text/plain": [
       "<matplotlib.axes._subplots.AxesSubplot at 0x1872b16cb70>"
      ]
     },
     "execution_count": 13,
     "metadata": {},
     "output_type": "execute_result"
    },
    {
     "data": {
      "image/png": "[encoded data removed]",
      "text/plain": [
       "<matplotlib.figure.Figure at 0x1872b133eb8>"
      ]
     },
     "metadata": {},
     "output_type": "display_data"
    }
   ],
   "source": [
    "df.groupby(df1.location_country).size().plot(kind='bar')"
   ]
  },
  {
   "cell_type": "code",
   "execution_count": 14,
   "metadata": {
    "collapsed": false
   },
   "outputs": [
    {
     "name": "stdout",
     "output_type": "stream",
     "text": [
      "Optimization terminated successfully.\n",
      "         Current function value: 1.421607\n",
      "         Iterations 5\n"
     ]
    },
    {
     "data": {
      "text/html": [
       "<table class=\"simpletable\">\n",
       "<caption>Poisson Regression Results</caption>\n",
       "<tr>\n",
       "  <th>Dep. Variable:</th>  <td>number_of_times</td> <th>  No. Observations:  </th>  <td> 36497</td>  \n",
       "</tr>\n",
       "<tr>\n",
       "  <th>Model:</th>              <td>Poisson</td>     <th>  Df Residuals:      </th>  <td> 36494</td>  \n",
       "</tr>\n",
       "<tr>\n",
       "  <th>Method:</th>               <td>MLE</td>       <th>  Df Model:          </th>  <td>     2</td>  \n",
       "</tr>\n",
       "<tr>\n",
       "  <th>Date:</th>          <td>Sat, 22 Oct 2016</td> <th>  Pseudo R-squ.:     </th> <td>0.001398</td> \n",
       "</tr>\n",
       "<tr>\n",
       "  <th>Time:</th>              <td>12:51:30</td>     <th>  Log-Likelihood:    </th> <td> -51884.</td> \n",
       "</tr>\n",
       "<tr>\n",
       "  <th>converged:</th>           <td>True</td>       <th>  LL-Null:           </th> <td> -51957.</td> \n",
       "</tr>\n",
       "<tr>\n",
       "  <th> </th>                      <td> </td>        <th>  LLR p-value:       </th> <td>2.803e-32</td>\n",
       "</tr>\n",
       "</table>\n",
       "<table class=\"simpletable\">\n",
       "<tr>\n",
       "    <td></td>       <th>coef</th>     <th>std err</th>      <th>z</th>      <th>P>|z|</th> <th>[95.0% Conf. Int.]</th> \n",
       "</tr>\n",
       "<tr>\n",
       "  <th>IN</th>    <td>    0.4271</td> <td>    0.011</td> <td>   38.594</td> <td> 0.000</td> <td>    0.405     0.449</td>\n",
       "</tr>\n",
       "<tr>\n",
       "  <th>Other</th> <td>    0.2012</td> <td>    0.016</td> <td>   12.760</td> <td> 0.000</td> <td>    0.170     0.232</td>\n",
       "</tr>\n",
       "<tr>\n",
       "  <th>US</th>    <td>    0.3685</td> <td>    0.005</td> <td>   73.985</td> <td> 0.000</td> <td>    0.359     0.378</td>\n",
       "</tr>\n",
       "</table>"
      ],
      "text/plain": [
       "<class 'statsmodels.iolib.summary.Summary'>\n",
       "\"\"\"\n",
       "                          Poisson Regression Results                          \n",
       "==============================================================================\n",
       "Dep. Variable:        number_of_times   No. Observations:                36497\n",
       "Model:                        Poisson   Df Residuals:                    36494\n",
       "Method:                           MLE   Df Model:                            2\n",
       "Date:                Sat, 22 Oct 2016   Pseudo R-squ.:                0.001398\n",
       "Time:                        12:51:30   Log-Likelihood:                -51884.\n",
       "converged:                       True   LL-Null:                       -51957.\n",
       "                                        LLR p-value:                 2.803e-32\n",
       "==============================================================================\n",
       "                 coef    std err          z      P>|z|      [95.0% Conf. Int.]\n",
       "------------------------------------------------------------------------------\n",
       "IN             0.4271      0.011     38.594      0.000         0.405     0.449\n",
       "Other          0.2012      0.016     12.760      0.000         0.170     0.232\n",
       "US             0.3685      0.005     73.985      0.000         0.359     0.378\n",
       "==============================================================================\n",
       "\"\"\""
      ]
     },
     "execution_count": 14,
     "metadata": {},
     "output_type": "execute_result"
    }
   ],
   "source": [
    "from statsmodels.discrete.discrete_model import Poisson\n",
    "ps_gender = Poisson(df1.number_of_times,lc).fit()\n",
    "ps_gender.summary()"
   ]
  },
  {
   "cell_type": "code",
   "execution_count": 15,
   "metadata": {
    "collapsed": false,
    "scrolled": true
   },
   "outputs": [
    {
     "data": {
      "text/plain": [
       "<matplotlib.axes._subplots.AxesSubplot at 0x1872b1924e0>"
      ]
     },
     "execution_count": 15,
     "metadata": {},
     "output_type": "execute_result"
    },
    {
     "data": {
      "image/png": "[encoded data removed]",
      "text/plain": [
       "<matplotlib.figure.Figure at 0x1872b14ca58>"
      ]
     },
     "metadata": {},
     "output_type": "display_data"
    }
   ],
   "source": [
    "df.groupby(yb).size().plot(kind='bar')"
   ]
  },
  {
   "cell_type": "code",
   "execution_count": 16,
   "metadata": {
    "collapsed": false
   },
   "outputs": [
    {
     "name": "stdout",
     "output_type": "stream",
     "text": [
      "Optimization terminated successfully.\n",
      "         Current function value: 1.423867\n",
      "         Iterations 4\n"
     ]
    },
    {
     "data": {
      "text/html": [
       "<table class=\"simpletable\">\n",
       "<caption>Poisson Regression Results</caption>\n",
       "<tr>\n",
       "  <th>Dep. Variable:</th>  <td>number_of_times</td> <th>  No. Observations:  </th>   <td> 36497</td>  \n",
       "</tr>\n",
       "<tr>\n",
       "  <th>Model:</th>              <td>Poisson</td>     <th>  Df Residuals:      </th>   <td> 36496</td>  \n",
       "</tr>\n",
       "<tr>\n",
       "  <th>Method:</th>               <td>MLE</td>       <th>  Df Model:          </th>   <td>     0</td>  \n",
       "</tr>\n",
       "<tr>\n",
       "  <th>Date:</th>          <td>Sat, 22 Oct 2016</td> <th>  Pseudo R-squ.:     </th> <td>-0.0001895</td>\n",
       "</tr>\n",
       "<tr>\n",
       "  <th>Time:</th>              <td>12:51:35</td>     <th>  Log-Likelihood:    </th>  <td> -51967.</td> \n",
       "</tr>\n",
       "<tr>\n",
       "  <th>converged:</th>           <td>True</td>       <th>  LL-Null:           </th>  <td> -51957.</td> \n",
       "</tr>\n",
       "<tr>\n",
       "  <th> </th>                      <td> </td>        <th>  LLR p-value:       </th>   <td>   nan</td>  \n",
       "</tr>\n",
       "</table>\n",
       "<table class=\"simpletable\">\n",
       "<tr>\n",
       "        <td></td>           <th>coef</th>     <th>std err</th>      <th>z</th>      <th>P>|z|</th> <th>[95.0% Conf. Int.]</th> \n",
       "</tr>\n",
       "<tr>\n",
       "  <th>year_of_birth</th> <td>    0.0002</td> <td> 2.21e-06</td> <td>   83.126</td> <td> 0.000</td> <td>    0.000     0.000</td>\n",
       "</tr>\n",
       "</table>"
      ],
      "text/plain": [
       "<class 'statsmodels.iolib.summary.Summary'>\n",
       "\"\"\"\n",
       "                          Poisson Regression Results                          \n",
       "==============================================================================\n",
       "Dep. Variable:        number_of_times   No. Observations:                36497\n",
       "Model:                        Poisson   Df Residuals:                    36496\n",
       "Method:                           MLE   Df Model:                            0\n",
       "Date:                Sat, 22 Oct 2016   Pseudo R-squ.:              -0.0001895\n",
       "Time:                        12:51:35   Log-Likelihood:                -51967.\n",
       "converged:                       True   LL-Null:                       -51957.\n",
       "                                        LLR p-value:                       nan\n",
       "=================================================================================\n",
       "                    coef    std err          z      P>|z|      [95.0% Conf. Int.]\n",
       "---------------------------------------------------------------------------------\n",
       "year_of_birth     0.0002   2.21e-06     83.126      0.000         0.000     0.000\n",
       "=================================================================================\n",
       "\"\"\""
      ]
     },
     "execution_count": 16,
     "metadata": {},
     "output_type": "execute_result"
    }
   ],
   "source": [
    "from statsmodels.discrete.discrete_model import Poisson\n",
    "ps_gender = Poisson(df1.number_of_times,yb).fit()\n",
    "ps_gender.summary()"
   ]
  },
  {
   "cell_type": "code",
   "execution_count": 50,
   "metadata": {
    "collapsed": false
   },
   "outputs": [
    {
     "name": "stdout",
     "output_type": "stream",
     "text": [
      "Warning: Maximum number of iterations has been exceeded.\n",
      "         Current function value: 1.422528\n",
      "         Iterations: 200\n"
     ]
    },
    {
     "name": "stderr",
     "output_type": "stream",
     "text": [
      "C:\\Anaconda3\\lib\\site-packages\\statsmodels\\base\\model.py:466: ConvergenceWarning: Maximum Likelihood optimization failed to converge. Check mle_retvals\n",
      "  \"Check mle_retvals\", ConvergenceWarning)\n"
     ]
    },
    {
     "data": {
      "text/html": [
       "<table class=\"simpletable\">\n",
       "<caption>Poisson Regression Results</caption>\n",
       "<tr>\n",
       "  <th>Dep. Variable:</th>  <td>number_of_times</td> <th>  No. Observations:  </th>  <td> 36497</td>  \n",
       "</tr>\n",
       "<tr>\n",
       "  <th>Model:</th>              <td>Poisson</td>     <th>  Df Residuals:      </th>  <td> 36484</td>  \n",
       "</tr>\n",
       "<tr>\n",
       "  <th>Method:</th>               <td>MLE</td>       <th>  Df Model:          </th>  <td>    12</td>  \n",
       "</tr>\n",
       "<tr>\n",
       "  <th>Date:</th>          <td>Sat, 22 Oct 2016</td> <th>  Pseudo R-squ.:     </th> <td>0.0007512</td>\n",
       "</tr>\n",
       "<tr>\n",
       "  <th>Time:</th>              <td>14:09:25</td>     <th>  Log-Likelihood:    </th> <td> -51918.</td> \n",
       "</tr>\n",
       "<tr>\n",
       "  <th>converged:</th>           <td>False</td>      <th>  LL-Null:           </th> <td> -51957.</td> \n",
       "</tr>\n",
       "<tr>\n",
       "  <th> </th>                      <td> </td>        <th>  LLR p-value:       </th> <td>9.666e-12</td>\n",
       "</tr>\n",
       "</table>\n",
       "<table class=\"simpletable\">\n",
       "<tr>\n",
       "          <td></td>             <th>coef</th>     <th>std err</th>      <th>z</th>      <th>P>|z|</th> <th>[95.0% Conf. Int.]</th> \n",
       "</tr>\n",
       "<tr>\n",
       "  <th>1</th>                 <td>    0.1069</td> <td> 5.03e+05</td> <td> 2.13e-07</td> <td> 1.000</td> <td>-9.86e+05  9.86e+05</td>\n",
       "</tr>\n",
       "<tr>\n",
       "  <th>2</th>                 <td>    0.0702</td> <td> 5.18e+05</td> <td> 1.35e-07</td> <td> 1.000</td> <td>-1.02e+06  1.02e+06</td>\n",
       "</tr>\n",
       "<tr>\n",
       "  <th>3</th>                 <td>    0.0914</td> <td> 5.04e+05</td> <td> 1.81e-07</td> <td> 1.000</td> <td>-9.87e+05  9.87e+05</td>\n",
       "</tr>\n",
       "<tr>\n",
       "  <th>4</th>                 <td>    0.0727</td> <td> 5.03e+05</td> <td> 1.45e-07</td> <td> 1.000</td> <td>-9.86e+05  9.86e+05</td>\n",
       "</tr>\n",
       "<tr>\n",
       "  <th>5+</th>                <td>    0.0956</td> <td> 5.07e+05</td> <td> 1.89e-07</td> <td> 1.000</td> <td>-9.93e+05  9.93e+05</td>\n",
       "</tr>\n",
       "<tr>\n",
       "  <th>$10,000-$14,999</th>   <td>   -0.0141</td> <td> 4.52e+05</td> <td>-3.13e-08</td> <td> 1.000</td> <td>-8.87e+05  8.87e+05</td>\n",
       "</tr>\n",
       "<tr>\n",
       "  <th>$100,000 or more</th>  <td>    0.0689</td> <td>  4.5e+05</td> <td> 1.53e-07</td> <td> 1.000</td> <td>-8.83e+05  8.83e+05</td>\n",
       "</tr>\n",
       "<tr>\n",
       "  <th>$15,000-$24,999</th>   <td>    0.0305</td> <td> 4.62e+05</td> <td> 6.61e-08</td> <td> 1.000</td> <td>-9.05e+05  9.05e+05</td>\n",
       "</tr>\n",
       "<tr>\n",
       "  <th>$25,000-$39,999</th>   <td>    0.0592</td> <td> 4.58e+05</td> <td> 1.29e-07</td> <td> 1.000</td> <td>-8.99e+05  8.99e+05</td>\n",
       "</tr>\n",
       "<tr>\n",
       "  <th>$40,000-$59,999</th>   <td>    0.0757</td> <td> 4.55e+05</td> <td> 1.66e-07</td> <td> 1.000</td> <td>-8.91e+05  8.91e+05</td>\n",
       "</tr>\n",
       "<tr>\n",
       "  <th>$60,000-$74,999</th>   <td>    0.0459</td> <td> 4.58e+05</td> <td>    1e-07</td> <td> 1.000</td> <td>-8.99e+05  8.99e+05</td>\n",
       "</tr>\n",
       "<tr>\n",
       "  <th>$75,000-$99,999</th>   <td>    0.0542</td> <td> 4.54e+05</td> <td> 1.19e-07</td> <td> 1.000</td> <td>-8.89e+05  8.89e+05</td>\n",
       "</tr>\n",
       "<tr>\n",
       "  <th>Less than $10,000</th> <td>    0.1168</td> <td> 4.52e+05</td> <td> 2.58e-07</td> <td> 1.000</td> <td>-8.87e+05  8.87e+05</td>\n",
       "</tr>\n",
       "<tr>\n",
       "  <th>female</th>            <td>    0.2347</td> <td> 2.45e+05</td> <td> 9.57e-07</td> <td> 1.000</td> <td> -4.8e+05   4.8e+05</td>\n",
       "</tr>\n",
       "<tr>\n",
       "  <th>male</th>              <td>    0.2031</td> <td> 2.45e+05</td> <td> 8.28e-07</td> <td> 1.000</td> <td> -4.8e+05   4.8e+05</td>\n",
       "</tr>\n",
       "</table>"
      ],
      "text/plain": [
       "<class 'statsmodels.iolib.summary.Summary'>\n",
       "\"\"\"\n",
       "                          Poisson Regression Results                          \n",
       "==============================================================================\n",
       "Dep. Variable:        number_of_times   No. Observations:                36497\n",
       "Model:                        Poisson   Df Residuals:                    36484\n",
       "Method:                           MLE   Df Model:                           12\n",
       "Date:                Sat, 22 Oct 2016   Pseudo R-squ.:               0.0007512\n",
       "Time:                        14:09:25   Log-Likelihood:                -51918.\n",
       "converged:                      False   LL-Null:                       -51957.\n",
       "                                        LLR p-value:                 9.666e-12\n",
       "=====================================================================================\n",
       "                        coef    std err          z      P>|z|      [95.0% Conf. Int.]\n",
       "-------------------------------------------------------------------------------------\n",
       "1                     0.1069   5.03e+05   2.13e-07      1.000     -9.86e+05  9.86e+05\n",
       "2                     0.0702   5.18e+05   1.35e-07      1.000     -1.02e+06  1.02e+06\n",
       "3                     0.0914   5.04e+05   1.81e-07      1.000     -9.87e+05  9.87e+05\n",
       "4                     0.0727   5.03e+05   1.45e-07      1.000     -9.86e+05  9.86e+05\n",
       "5+                    0.0956   5.07e+05   1.89e-07      1.000     -9.93e+05  9.93e+05\n",
       "$10,000-$14,999      -0.0141   4.52e+05  -3.13e-08      1.000     -8.87e+05  8.87e+05\n",
       "$100,000 or more      0.0689    4.5e+05   1.53e-07      1.000     -8.83e+05  8.83e+05\n",
       "$15,000-$24,999       0.0305   4.62e+05   6.61e-08      1.000     -9.05e+05  9.05e+05\n",
       "$25,000-$39,999       0.0592   4.58e+05   1.29e-07      1.000     -8.99e+05  8.99e+05\n",
       "$40,000-$59,999       0.0757   4.55e+05   1.66e-07      1.000     -8.91e+05  8.91e+05\n",
       "$60,000-$74,999       0.0459   4.58e+05      1e-07      1.000     -8.99e+05  8.99e+05\n",
       "$75,000-$99,999       0.0542   4.54e+05   1.19e-07      1.000     -8.89e+05  8.89e+05\n",
       "Less than $10,000     0.1168   4.52e+05   2.58e-07      1.000     -8.87e+05  8.87e+05\n",
       "female                0.2347   2.45e+05   9.57e-07      1.000      -4.8e+05   4.8e+05\n",
       "male                  0.2031   2.45e+05   8.28e-07      1.000      -4.8e+05   4.8e+05\n",
       "=====================================================================================\n",
       "\"\"\""
      ]
     },
     "execution_count": 50,
     "metadata": {},
     "output_type": "execute_result"
    }
   ],
   "source": [
    "# Running Poisson regression based on all categorical data\n",
    "from statsmodels.discrete.discrete_model import Poisson\n",
    "ps_gender = Poisson(df1.number_of_times,pd.concat([hs,hi,g],axis=1)).fit(maxiter=200)\n",
    "ps_gender.summary()"
   ]
  },
  {
   "cell_type": "markdown",
   "metadata": {},
   "source": [
    "As there are too many independent variables, the regression can't converges, we try to narrow down the country and marital status into a more general group"
   ]
  },
  {
   "cell_type": "code",
   "execution_count": 65,
   "metadata": {
    "collapsed": false
   },
   "outputs": [
    {
     "name": "stdout",
     "output_type": "stream",
     "text": [
      "Warning: Maximum number of iterations has been exceeded.\n",
      "         Current function value: 1.414553\n",
      "         Iterations: 40\n"
     ]
    },
    {
     "name": "stderr",
     "output_type": "stream",
     "text": [
      "C:\\Anaconda3\\lib\\site-packages\\statsmodels\\base\\model.py:466: ConvergenceWarning: Maximum Likelihood optimization failed to converge. Check mle_retvals\n",
      "  \"Check mle_retvals\", ConvergenceWarning)\n"
     ]
    },
    {
     "data": {
      "text/html": [
       "<table class=\"simpletable\">\n",
       "<caption>Poisson Regression Results</caption>\n",
       "<tr>\n",
       "  <th>Dep. Variable:</th>  <td>number_of_times</td> <th>  No. Observations:  </th>   <td> 36497</td>  \n",
       "</tr>\n",
       "<tr>\n",
       "  <th>Model:</th>              <td>Poisson</td>     <th>  Df Residuals:      </th>   <td> 36480</td>  \n",
       "</tr>\n",
       "<tr>\n",
       "  <th>Method:</th>               <td>MLE</td>       <th>  Df Model:          </th>   <td>    16</td>  \n",
       "</tr>\n",
       "<tr>\n",
       "  <th>Date:</th>          <td>Sat, 22 Oct 2016</td> <th>  Pseudo R-squ.:     </th>  <td>0.006353</td> \n",
       "</tr>\n",
       "<tr>\n",
       "  <th>Time:</th>              <td>14:16:19</td>     <th>  Log-Likelihood:    </th>  <td> -51627.</td> \n",
       "</tr>\n",
       "<tr>\n",
       "  <th>converged:</th>           <td>False</td>      <th>  LL-Null:           </th>  <td> -51957.</td> \n",
       "</tr>\n",
       "<tr>\n",
       "  <th> </th>                      <td> </td>        <th>  LLR p-value:       </th> <td>3.774e-130</td>\n",
       "</tr>\n",
       "</table>\n",
       "<table class=\"simpletable\">\n",
       "<tr>\n",
       "          <td></td>             <th>coef</th>     <th>std err</th>      <th>z</th>      <th>P>|z|</th> <th>[95.0% Conf. Int.]</th> \n",
       "</tr>\n",
       "<tr>\n",
       "  <th>1</th>                 <td>   12.2271</td> <td> 2.08e+05</td> <td> 5.88e-05</td> <td> 1.000</td> <td>-4.08e+05  4.08e+05</td>\n",
       "</tr>\n",
       "<tr>\n",
       "  <th>2</th>                 <td>   12.1704</td> <td> 2.05e+05</td> <td> 5.94e-05</td> <td> 1.000</td> <td>-4.02e+05  4.02e+05</td>\n",
       "</tr>\n",
       "<tr>\n",
       "  <th>3</th>                 <td>   12.1919</td> <td> 1.96e+05</td> <td> 6.23e-05</td> <td> 1.000</td> <td>-3.84e+05  3.84e+05</td>\n",
       "</tr>\n",
       "<tr>\n",
       "  <th>4</th>                 <td>   12.1696</td> <td> 1.91e+05</td> <td> 6.39e-05</td> <td> 1.000</td> <td>-3.73e+05  3.73e+05</td>\n",
       "</tr>\n",
       "<tr>\n",
       "  <th>5+</th>                <td>   12.1904</td> <td> 2.16e+05</td> <td> 5.63e-05</td> <td> 1.000</td> <td>-4.24e+05  4.24e+05</td>\n",
       "</tr>\n",
       "<tr>\n",
       "  <th>$10,000-$14,999</th>   <td>    8.0604</td> <td> 3.77e+05</td> <td> 2.14e-05</td> <td> 1.000</td> <td> -7.4e+05   7.4e+05</td>\n",
       "</tr>\n",
       "<tr>\n",
       "  <th>$100,000 or more</th>  <td>    8.1330</td> <td> 3.77e+05</td> <td> 2.16e-05</td> <td> 1.000</td> <td>-7.39e+05  7.39e+05</td>\n",
       "</tr>\n",
       "<tr>\n",
       "  <th>$15,000-$24,999</th>   <td>    8.1114</td> <td> 3.77e+05</td> <td> 2.15e-05</td> <td> 1.000</td> <td> -7.4e+05   7.4e+05</td>\n",
       "</tr>\n",
       "<tr>\n",
       "  <th>$25,000-$39,999</th>   <td>    8.1402</td> <td> 3.76e+05</td> <td> 2.16e-05</td> <td> 1.000</td> <td>-7.37e+05  7.37e+05</td>\n",
       "</tr>\n",
       "<tr>\n",
       "  <th>$40,000-$59,999</th>   <td>    8.1514</td> <td> 3.77e+05</td> <td> 2.16e-05</td> <td> 1.000</td> <td>-7.39e+05  7.39e+05</td>\n",
       "</tr>\n",
       "<tr>\n",
       "  <th>$60,000-$74,999</th>   <td>    8.1141</td> <td> 3.76e+05</td> <td> 2.16e-05</td> <td> 1.000</td> <td>-7.37e+05  7.37e+05</td>\n",
       "</tr>\n",
       "<tr>\n",
       "  <th>$75,000-$99,999</th>   <td>    8.1153</td> <td> 3.78e+05</td> <td> 2.15e-05</td> <td> 1.000</td> <td>-7.41e+05  7.41e+05</td>\n",
       "</tr>\n",
       "<tr>\n",
       "  <th>Less than $10,000</th> <td>    8.1948</td> <td> 3.76e+05</td> <td> 2.18e-05</td> <td> 1.000</td> <td>-7.37e+05  7.37e+05</td>\n",
       "</tr>\n",
       "<tr>\n",
       "  <th>female</th>            <td>   32.8308</td> <td>  4.2e+05</td> <td> 7.82e-05</td> <td> 1.000</td> <td>-8.23e+05  8.23e+05</td>\n",
       "</tr>\n",
       "<tr>\n",
       "  <th>male</th>              <td>   32.8312</td> <td> 4.22e+05</td> <td> 7.78e-05</td> <td> 1.000</td> <td>-8.27e+05  8.27e+05</td>\n",
       "</tr>\n",
       "<tr>\n",
       "  <th>married</th>           <td>  -41.5027</td> <td>  2.8e+05</td> <td>   -0.000</td> <td> 1.000</td> <td>-5.49e+05  5.49e+05</td>\n",
       "</tr>\n",
       "<tr>\n",
       "  <th>single</th>            <td>  -41.5566</td> <td>  2.8e+05</td> <td>   -0.000</td> <td> 1.000</td> <td>-5.49e+05  5.49e+05</td>\n",
       "</tr>\n",
       "<tr>\n",
       "  <th>year_of_birth</th>     <td>   -0.0072</td> <td>    0.000</td> <td>  -17.634</td> <td> 0.000</td> <td>   -0.008    -0.006</td>\n",
       "</tr>\n",
       "<tr>\n",
       "  <th>IN</th>                <td>    3.0114</td> <td>      nan</td> <td>      nan</td> <td>   nan</td> <td>      nan       nan</td>\n",
       "</tr>\n",
       "<tr>\n",
       "  <th>Other</th>             <td>    2.8034</td> <td>      nan</td> <td>      nan</td> <td>   nan</td> <td>      nan       nan</td>\n",
       "</tr>\n",
       "<tr>\n",
       "  <th>US</th>                <td>    2.9539</td> <td>      nan</td> <td>      nan</td> <td>   nan</td> <td>      nan       nan</td>\n",
       "</tr>\n",
       "</table>"
      ],
      "text/plain": [
       "<class 'statsmodels.iolib.summary.Summary'>\n",
       "\"\"\"\n",
       "                          Poisson Regression Results                          \n",
       "==============================================================================\n",
       "Dep. Variable:        number_of_times   No. Observations:                36497\n",
       "Model:                        Poisson   Df Residuals:                    36480\n",
       "Method:                           MLE   Df Model:                           16\n",
       "Date:                Sat, 22 Oct 2016   Pseudo R-squ.:                0.006353\n",
       "Time:                        14:16:19   Log-Likelihood:                -51627.\n",
       "converged:                      False   LL-Null:                       -51957.\n",
       "                                        LLR p-value:                3.774e-130\n",
       "=====================================================================================\n",
       "                        coef    std err          z      P>|z|      [95.0% Conf. Int.]\n",
       "-------------------------------------------------------------------------------------\n",
       "1                    12.2271   2.08e+05   5.88e-05      1.000     -4.08e+05  4.08e+05\n",
       "2                    12.1704   2.05e+05   5.94e-05      1.000     -4.02e+05  4.02e+05\n",
       "3                    12.1919   1.96e+05   6.23e-05      1.000     -3.84e+05  3.84e+05\n",
       "4                    12.1696   1.91e+05   6.39e-05      1.000     -3.73e+05  3.73e+05\n",
       "5+                   12.1904   2.16e+05   5.63e-05      1.000     -4.24e+05  4.24e+05\n",
       "$10,000-$14,999       8.0604   3.77e+05   2.14e-05      1.000      -7.4e+05   7.4e+05\n",
       "$100,000 or more      8.1330   3.77e+05   2.16e-05      1.000     -7.39e+05  7.39e+05\n",
       "$15,000-$24,999       8.1114   3.77e+05   2.15e-05      1.000      -7.4e+05   7.4e+05\n",
       "$25,000-$39,999       8.1402   3.76e+05   2.16e-05      1.000     -7.37e+05  7.37e+05\n",
       "$40,000-$59,999       8.1514   3.77e+05   2.16e-05      1.000     -7.39e+05  7.39e+05\n",
       "$60,000-$74,999       8.1141   3.76e+05   2.16e-05      1.000     -7.37e+05  7.37e+05\n",
       "$75,000-$99,999       8.1153   3.78e+05   2.15e-05      1.000     -7.41e+05  7.41e+05\n",
       "Less than $10,000     8.1948   3.76e+05   2.18e-05      1.000     -7.37e+05  7.37e+05\n",
       "female               32.8308    4.2e+05   7.82e-05      1.000     -8.23e+05  8.23e+05\n",
       "male                 32.8312   4.22e+05   7.78e-05      1.000     -8.27e+05  8.27e+05\n",
       "married             -41.5027    2.8e+05     -0.000      1.000     -5.49e+05  5.49e+05\n",
       "single              -41.5566    2.8e+05     -0.000      1.000     -5.49e+05  5.49e+05\n",
       "year_of_birth        -0.0072      0.000    -17.634      0.000        -0.008    -0.006\n",
       "IN                    3.0114        nan        nan        nan           nan       nan\n",
       "Other                 2.8034        nan        nan        nan           nan       nan\n",
       "US                    2.9539        nan        nan        nan           nan       nan\n",
       "=====================================================================================\n",
       "\"\"\""
      ]
     },
     "execution_count": 65,
     "metadata": {},
     "output_type": "execute_result"
    }
   ],
   "source": [
    "# Running Poisson regression based on all categorical data\n",
    "\n",
    "from statsmodels.discrete.discrete_model import Poisson\n",
    "ps_gender = Poisson(df1.number_of_times,pd.concat([hs,hi,g,ms,yb,lc],axis=1)).fit(maxiter=40)\n",
    "ps_gender.summary()"
   ]
  },
  {
   "cell_type": "markdown",
   "metadata": {},
   "source": [
    "As the regression still can't converges, we try again to narrow down the features."
   ]
  }
 ],
 "metadata": {
  "anaconda-cloud": {},
  "kernelspec": {
   "display_name": "Python [Root]",
   "language": "python",
   "name": "Python [Root]"
  },
  "language_info": {
   "codemirror_mode": {
    "name": "ipython",
    "version": 3
   },
   "file_extension": ".py",
   "mimetype": "text/x-python",
   "name": "python",
   "nbconvert_exporter": "python",
   "pygments_lexer": "ipython3",
   "version": "3.5.1"
  }
 },
 "nbformat": 4,
 "nbformat_minor": 0
}
